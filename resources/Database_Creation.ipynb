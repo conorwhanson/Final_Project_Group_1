{
 "cells": [
  {
   "cell_type": "code",
   "execution_count": 1,
   "id": "cbb5c45c",
   "metadata": {},
   "outputs": [],
   "source": [
    "# Import Dependencies\n",
    "import pandas as pd\n",
    "import numpy as np\n",
    "import matplotlib.pyplot as plt\n",
    "\n",
    "# allow max columns to be displayed\n",
    "pd.set_option('display.max_columns', None)\n",
    "pd.set_option('display.max_colwidth', None)\n",
    "\n",
    "from sklearn.preprocessing import StandardScaler,OneHotEncoder\n",
    "\n",
    "# Python SQL toolkit and Object Relational Mapper\n",
    "import sqlalchemy\n",
    "from sqlalchemy.ext.automap import automap_base\n",
    "from sqlalchemy.orm import Session\n",
    "from sqlalchemy import create_engine, inspect, func"
   ]
  },
  {
   "cell_type": "code",
   "execution_count": 2,
   "id": "371a9afe",
   "metadata": {},
   "outputs": [],
   "source": [
    "# Files to load\n",
    "employee_survey_data = \"HR_Data/employee_survey_data.csv\"\n",
    "manager_survey_data = \"HR_Data/manager_survey_data.csv\"\n",
    "in_time = \"HR_Data/in_time.csv\"\n",
    "out_time = \"HR_Data/out_time.csv\"\n",
    "general_data = \"HR_Data/general_data.csv\""
   ]
  },
  {
   "cell_type": "code",
   "execution_count": 3,
   "id": "ccd37aad",
   "metadata": {},
   "outputs": [],
   "source": [
    "# Read the employee/manager survey data files and store in a Dataframe.\n",
    "\n",
    "employee_survey_df = pd.read_csv(employee_survey_data)\n",
    "manager_survey_df = pd.read_csv(manager_survey_data)\n",
    "in_time_df = pd.read_csv(in_time)\n",
    "out_time_df = pd.read_csv(out_time)\n",
    "general_data_df = pd.read_csv(general_data)"
   ]
  },
  {
   "cell_type": "code",
   "execution_count": 4,
   "id": "21b6b008",
   "metadata": {},
   "outputs": [
    {
     "data": {
      "text/html": [
       "<div>\n",
       "<style scoped>\n",
       "    .dataframe tbody tr th:only-of-type {\n",
       "        vertical-align: middle;\n",
       "    }\n",
       "\n",
       "    .dataframe tbody tr th {\n",
       "        vertical-align: top;\n",
       "    }\n",
       "\n",
       "    .dataframe thead th {\n",
       "        text-align: right;\n",
       "    }\n",
       "</style>\n",
       "<table border=\"1\" class=\"dataframe\">\n",
       "  <thead>\n",
       "    <tr style=\"text-align: right;\">\n",
       "      <th></th>\n",
       "      <th>EmployeeID</th>\n",
       "      <th>EnvironmentSatisfaction</th>\n",
       "      <th>JobSatisfaction</th>\n",
       "      <th>WorkLifeBalance</th>\n",
       "    </tr>\n",
       "  </thead>\n",
       "  <tbody>\n",
       "    <tr>\n",
       "      <th>0</th>\n",
       "      <td>1</td>\n",
       "      <td>3.0</td>\n",
       "      <td>4.0</td>\n",
       "      <td>2.0</td>\n",
       "    </tr>\n",
       "    <tr>\n",
       "      <th>1</th>\n",
       "      <td>2</td>\n",
       "      <td>3.0</td>\n",
       "      <td>2.0</td>\n",
       "      <td>4.0</td>\n",
       "    </tr>\n",
       "    <tr>\n",
       "      <th>2</th>\n",
       "      <td>3</td>\n",
       "      <td>2.0</td>\n",
       "      <td>2.0</td>\n",
       "      <td>1.0</td>\n",
       "    </tr>\n",
       "    <tr>\n",
       "      <th>3</th>\n",
       "      <td>4</td>\n",
       "      <td>4.0</td>\n",
       "      <td>4.0</td>\n",
       "      <td>3.0</td>\n",
       "    </tr>\n",
       "    <tr>\n",
       "      <th>4</th>\n",
       "      <td>5</td>\n",
       "      <td>4.0</td>\n",
       "      <td>1.0</td>\n",
       "      <td>3.0</td>\n",
       "    </tr>\n",
       "  </tbody>\n",
       "</table>\n",
       "</div>"
      ],
      "text/plain": [
       "   EmployeeID  EnvironmentSatisfaction  JobSatisfaction  WorkLifeBalance\n",
       "0           1                      3.0              4.0              2.0\n",
       "1           2                      3.0              2.0              4.0\n",
       "2           3                      2.0              2.0              1.0\n",
       "3           4                      4.0              4.0              3.0\n",
       "4           5                      4.0              1.0              3.0"
      ]
     },
     "execution_count": 4,
     "metadata": {},
     "output_type": "execute_result"
    }
   ],
   "source": [
    "employee_survey_df.head()"
   ]
  },
  {
   "cell_type": "code",
   "execution_count": 5,
   "id": "ffffbc7a",
   "metadata": {},
   "outputs": [
    {
     "data": {
      "text/html": [
       "<div>\n",
       "<style scoped>\n",
       "    .dataframe tbody tr th:only-of-type {\n",
       "        vertical-align: middle;\n",
       "    }\n",
       "\n",
       "    .dataframe tbody tr th {\n",
       "        vertical-align: top;\n",
       "    }\n",
       "\n",
       "    .dataframe thead th {\n",
       "        text-align: right;\n",
       "    }\n",
       "</style>\n",
       "<table border=\"1\" class=\"dataframe\">\n",
       "  <thead>\n",
       "    <tr style=\"text-align: right;\">\n",
       "      <th></th>\n",
       "      <th>EmployeeID</th>\n",
       "      <th>JobInvolvement</th>\n",
       "      <th>PerformanceRating</th>\n",
       "    </tr>\n",
       "  </thead>\n",
       "  <tbody>\n",
       "    <tr>\n",
       "      <th>0</th>\n",
       "      <td>1</td>\n",
       "      <td>3</td>\n",
       "      <td>3</td>\n",
       "    </tr>\n",
       "    <tr>\n",
       "      <th>1</th>\n",
       "      <td>2</td>\n",
       "      <td>2</td>\n",
       "      <td>4</td>\n",
       "    </tr>\n",
       "    <tr>\n",
       "      <th>2</th>\n",
       "      <td>3</td>\n",
       "      <td>3</td>\n",
       "      <td>3</td>\n",
       "    </tr>\n",
       "    <tr>\n",
       "      <th>3</th>\n",
       "      <td>4</td>\n",
       "      <td>2</td>\n",
       "      <td>3</td>\n",
       "    </tr>\n",
       "    <tr>\n",
       "      <th>4</th>\n",
       "      <td>5</td>\n",
       "      <td>3</td>\n",
       "      <td>3</td>\n",
       "    </tr>\n",
       "  </tbody>\n",
       "</table>\n",
       "</div>"
      ],
      "text/plain": [
       "   EmployeeID  JobInvolvement  PerformanceRating\n",
       "0           1               3                  3\n",
       "1           2               2                  4\n",
       "2           3               3                  3\n",
       "3           4               2                  3\n",
       "4           5               3                  3"
      ]
     },
     "execution_count": 5,
     "metadata": {},
     "output_type": "execute_result"
    }
   ],
   "source": [
    "manager_survey_df.head()"
   ]
  },
  {
   "cell_type": "code",
   "execution_count": 6,
   "id": "8195279e",
   "metadata": {},
   "outputs": [
    {
     "name": "stdout",
     "output_type": "stream",
     "text": [
      "<class 'pandas.core.frame.DataFrame'>\n",
      "RangeIndex: 4410 entries, 0 to 4409\n",
      "Columns: 262 entries, Unnamed: 0 to 2015-12-31\n",
      "dtypes: float64(12), int64(1), object(249)\n",
      "memory usage: 8.8+ MB\n"
     ]
    }
   ],
   "source": [
    "in_time_df.info()"
   ]
  },
  {
   "cell_type": "code",
   "execution_count": 7,
   "id": "1f6fb3b0",
   "metadata": {},
   "outputs": [
    {
     "name": "stdout",
     "output_type": "stream",
     "text": [
      "<class 'pandas.core.frame.DataFrame'>\n",
      "RangeIndex: 4410 entries, 0 to 4409\n",
      "Columns: 262 entries, Unnamed: 0 to 2015-12-31\n",
      "dtypes: float64(12), int64(1), object(249)\n",
      "memory usage: 8.8+ MB\n"
     ]
    }
   ],
   "source": [
    "out_time_df.info()"
   ]
  },
  {
   "cell_type": "code",
   "execution_count": null,
   "id": "ee9a2ef4",
   "metadata": {},
   "outputs": [],
   "source": [
    "#Combine the employee and manager survey dfs inta a single df.\n",
    "\n",
    "survey_df = pd.merge(employee_survey_df, manager_survey_df, on=[\"EmployeeID\", \"EmployeeID\"])\n",
    "\n",
    "survey_df.head()"
   ]
  },
  {
   "cell_type": "code",
   "execution_count": null,
   "id": "6e08a1ec",
   "metadata": {},
   "outputs": [],
   "source": [
    "survey_df.info()"
   ]
  },
  {
   "cell_type": "code",
   "execution_count": null,
   "id": "4accabbb",
   "metadata": {},
   "outputs": [],
   "source": [
    "survey_general_df = pd.merge(survey_df, general_data_df, on=[\"EmployeeID\", \"EmployeeID\"])\n",
    "\n",
    "survey_general_df.head()"
   ]
  },
  {
   "cell_type": "code",
   "execution_count": null,
   "id": "9a311e81",
   "metadata": {},
   "outputs": [],
   "source": [
    "survey_general_df.drop('EmployeeCount', axis=1, inplace=True)"
   ]
  },
  {
   "cell_type": "code",
   "execution_count": null,
   "id": "1ce11743",
   "metadata": {},
   "outputs": [],
   "source": [
    "survey_general_df.info()"
   ]
  },
  {
   "cell_type": "code",
   "execution_count": null,
   "id": "b7f747b1",
   "metadata": {},
   "outputs": [],
   "source": [
    "survey_general_df.dropna(inplace=True)"
   ]
  },
  {
   "cell_type": "code",
   "execution_count": null,
   "id": "8e6f76b9",
   "metadata": {},
   "outputs": [],
   "source": [
    "survey_general_df.info()"
   ]
  },
  {
   "cell_type": "code",
   "execution_count": null,
   "id": "4d4bc693",
   "metadata": {},
   "outputs": [],
   "source": [
    "in_time_df.dtypes"
   ]
  },
  {
   "cell_type": "code",
   "execution_count": null,
   "id": "fc076a22",
   "metadata": {},
   "outputs": [],
   "source": [
    "survey_general_df[\"MonthlyIncome\"] = survey_general_df[\"MonthlyIncome\"].apply(lambda x : x * 0.013)\n",
    "survey_general_df.head()"
   ]
  },
  {
   "cell_type": "code",
   "execution_count": null,
   "id": "f9eb02fe",
   "metadata": {},
   "outputs": [],
   "source": [
    "survey_general_df[\"DistanceFromHome\"] = survey_general_df[\"DistanceFromHome\"].apply(lambda x : x / 1.6)\n",
    "survey_general_df.info()"
   ]
  },
  {
   "cell_type": "code",
   "execution_count": null,
   "id": "1d66a524",
   "metadata": {},
   "outputs": [],
   "source": [
    "# Save as a new CSV\n",
    "\n",
    "survey_general_df.to_csv(\"Clean_HRData.csv\")"
   ]
  },
  {
   "cell_type": "code",
   "execution_count": null,
   "id": "7c69fc8c",
   "metadata": {},
   "outputs": [],
   "source": [
    "# OneHotEncoder\n",
    "\n",
    "attrition_cat = survey_general_df.dtypes[survey_general_df.dtypes == 'object'].index.to_list()\n",
    "survey_general_df[attrition_cat].nunique()"
   ]
  },
  {
   "cell_type": "code",
   "execution_count": null,
   "id": "adc78e3a",
   "metadata": {},
   "outputs": [],
   "source": [
    "# OneHotEncode cat data\n",
    "enc = OneHotEncoder(sparse=False)\n",
    "\n",
    "# Fit & transform the enc using the cat list\n",
    "encode_df = pd.DataFrame(enc.fit_transform(survey_general_df[attrition_cat]))\n",
    "\n",
    "# Add encoded vars to DF\n",
    "encode_df.columns = enc.get_feature_names_out(attrition_cat)\n",
    "encode_df.info()"
   ]
  },
  {
   "cell_type": "code",
   "execution_count": null,
   "id": "1888ed53",
   "metadata": {},
   "outputs": [],
   "source": [
    "# Merge the encoded dataframe with the OG dataframe, then drop the categorical columns\n",
    "hr_df = survey_general_df.merge(encode_df, how=\"inner\", left_index=True, right_index=True)\n",
    "hr_df = hr_df.drop(attrition_cat, 1)\n",
    "hr_df.info()"
   ]
  },
  {
   "cell_type": "code",
   "execution_count": null,
   "id": "1211ae15",
   "metadata": {},
   "outputs": [],
   "source": [
    "hr_df.info()"
   ]
  },
  {
   "cell_type": "code",
   "execution_count": null,
   "id": "847da209",
   "metadata": {},
   "outputs": [],
   "source": []
  },
  {
   "cell_type": "code",
   "execution_count": null,
   "id": "7af15384",
   "metadata": {},
   "outputs": [],
   "source": [
    "hr_df.to_csv(\"Clean_HRData_ML.csv\")"
   ]
  },
  {
   "cell_type": "code",
   "execution_count": null,
   "id": "d9919181",
   "metadata": {},
   "outputs": [],
   "source": []
  }
 ],
 "metadata": {
  "kernelspec": {
   "display_name": "Python 3 (ipykernel)",
   "language": "python",
   "name": "python3"
  },
  "language_info": {
   "codemirror_mode": {
    "name": "ipython",
    "version": 3
   },
   "file_extension": ".py",
   "mimetype": "text/x-python",
   "name": "python",
   "nbconvert_exporter": "python",
   "pygments_lexer": "ipython3",
   "version": "3.9.7"
  },
  "varInspector": {
   "cols": {
    "lenName": 16,
    "lenType": 16,
    "lenVar": 40
   },
   "kernels_config": {
    "python": {
     "delete_cmd_postfix": "",
     "delete_cmd_prefix": "del ",
     "library": "var_list.py",
     "varRefreshCmd": "print(var_dic_list())"
    },
    "r": {
     "delete_cmd_postfix": ") ",
     "delete_cmd_prefix": "rm(",
     "library": "var_list.r",
     "varRefreshCmd": "cat(var_dic_list()) "
    }
   },
   "types_to_exclude": [
    "module",
    "function",
    "builtin_function_or_method",
    "instance",
    "_Feature"
   ],
   "window_display": false
  }
 },
 "nbformat": 4,
 "nbformat_minor": 5
}
