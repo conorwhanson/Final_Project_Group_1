{
 "cells": [
  {
   "cell_type": "code",
   "execution_count": 1,
   "id": "861759f4",
   "metadata": {},
   "outputs": [],
   "source": [
    "import pandas as pd\n",
    "import numpy as np\n",
    "import matplotlib.pyplot as plt\n",
    "import seaborn as sns\n",
    "pd.set_option('display.max_columns', None)\n",
    "pd.set_option('display.max_colwidth', None)"
   ]
  },
  {
   "cell_type": "code",
   "execution_count": 2,
   "id": "6398e7c9",
   "metadata": {},
   "outputs": [
    {
     "name": "stdout",
     "output_type": "stream",
     "text": [
      "<class 'pandas.core.frame.DataFrame'>\n",
      "RangeIndex: 4300 entries, 0 to 4299\n",
      "Data columns (total 27 columns):\n",
      " #   Column                   Non-Null Count  Dtype  \n",
      "---  ------                   --------------  -----  \n",
      " 0   Age                      4300 non-null   int64  \n",
      " 1   Attrition                4300 non-null   object \n",
      " 2   BusinessTravel           4300 non-null   object \n",
      " 3   Department               4300 non-null   object \n",
      " 4   DistanceFromHome         4300 non-null   float64\n",
      " 5   Education                4300 non-null   int64  \n",
      " 6   EducationField           4300 non-null   object \n",
      " 7   EmployeeID               4300 non-null   int64  \n",
      " 8   Gender                   4300 non-null   object \n",
      " 9   JobLevel                 4300 non-null   int64  \n",
      " 10  JobRole                  4300 non-null   object \n",
      " 11  MaritalStatus            4300 non-null   object \n",
      " 12  MonthlyIncome            4300 non-null   float64\n",
      " 13  NumCompaniesWorked       4300 non-null   float64\n",
      " 14  PercentSalaryHike        4300 non-null   int64  \n",
      " 15  StandardHours            4300 non-null   int64  \n",
      " 16  StockOptionLevel         4300 non-null   int64  \n",
      " 17  TotalWorkingYears        4300 non-null   float64\n",
      " 18  TrainingTimesLastYear    4300 non-null   int64  \n",
      " 19  YearsAtCompany           4300 non-null   int64  \n",
      " 20  YearsSinceLastPromotion  4300 non-null   int64  \n",
      " 21  YearsWithCurrManager     4300 non-null   int64  \n",
      " 22  EnvironmentSatisfaction  4300 non-null   float64\n",
      " 23  JobSatisfaction          4300 non-null   float64\n",
      " 24  WorkLifeBalance          4300 non-null   float64\n",
      " 25  JobInvolvement           4300 non-null   int64  \n",
      " 26  PerformanceRating        4300 non-null   int64  \n",
      "dtypes: float64(7), int64(13), object(7)\n",
      "memory usage: 907.2+ KB\n"
     ]
    }
   ],
   "source": [
    "hr_df = pd.read_csv(\"HR_Data/NEW_Clean_HRData.csv\")\n",
    "hr_df.info()"
   ]
  },
  {
   "cell_type": "code",
   "execution_count": 3,
   "id": "dd31a95a",
   "metadata": {},
   "outputs": [
    {
     "data": {
      "text/html": [
       "<div>\n",
       "<style scoped>\n",
       "    .dataframe tbody tr th:only-of-type {\n",
       "        vertical-align: middle;\n",
       "    }\n",
       "\n",
       "    .dataframe tbody tr th {\n",
       "        vertical-align: top;\n",
       "    }\n",
       "\n",
       "    .dataframe thead th {\n",
       "        text-align: right;\n",
       "    }\n",
       "</style>\n",
       "<table border=\"1\" class=\"dataframe\">\n",
       "  <thead>\n",
       "    <tr style=\"text-align: right;\">\n",
       "      <th></th>\n",
       "      <th>Age</th>\n",
       "      <th>Attrition</th>\n",
       "      <th>BusinessTravel</th>\n",
       "      <th>Department</th>\n",
       "      <th>DistanceFromHome</th>\n",
       "      <th>Education</th>\n",
       "      <th>EducationField</th>\n",
       "      <th>EmployeeID</th>\n",
       "      <th>Gender</th>\n",
       "      <th>JobLevel</th>\n",
       "      <th>JobRole</th>\n",
       "      <th>MaritalStatus</th>\n",
       "      <th>MonthlyIncome</th>\n",
       "      <th>NumCompaniesWorked</th>\n",
       "      <th>PercentSalaryHike</th>\n",
       "      <th>StandardHours</th>\n",
       "      <th>StockOptionLevel</th>\n",
       "      <th>TotalWorkingYears</th>\n",
       "      <th>TrainingTimesLastYear</th>\n",
       "      <th>YearsAtCompany</th>\n",
       "      <th>YearsSinceLastPromotion</th>\n",
       "      <th>YearsWithCurrManager</th>\n",
       "      <th>EnvironmentSatisfaction</th>\n",
       "      <th>JobSatisfaction</th>\n",
       "      <th>WorkLifeBalance</th>\n",
       "      <th>JobInvolvement</th>\n",
       "      <th>PerformanceRating</th>\n",
       "    </tr>\n",
       "  </thead>\n",
       "  <tbody>\n",
       "    <tr>\n",
       "      <th>0</th>\n",
       "      <td>51</td>\n",
       "      <td>No</td>\n",
       "      <td>Travel_Rarely</td>\n",
       "      <td>Sales</td>\n",
       "      <td>3.750</td>\n",
       "      <td>2</td>\n",
       "      <td>Life Sciences</td>\n",
       "      <td>1</td>\n",
       "      <td>Female</td>\n",
       "      <td>1</td>\n",
       "      <td>Healthcare Representative</td>\n",
       "      <td>Married</td>\n",
       "      <td>1705.08</td>\n",
       "      <td>1.0</td>\n",
       "      <td>11</td>\n",
       "      <td>8</td>\n",
       "      <td>0</td>\n",
       "      <td>1.0</td>\n",
       "      <td>6</td>\n",
       "      <td>1</td>\n",
       "      <td>0</td>\n",
       "      <td>0</td>\n",
       "      <td>3.0</td>\n",
       "      <td>4.0</td>\n",
       "      <td>2.0</td>\n",
       "      <td>3</td>\n",
       "      <td>3</td>\n",
       "    </tr>\n",
       "    <tr>\n",
       "      <th>1</th>\n",
       "      <td>31</td>\n",
       "      <td>Yes</td>\n",
       "      <td>Travel_Frequently</td>\n",
       "      <td>Research &amp; Development</td>\n",
       "      <td>6.250</td>\n",
       "      <td>1</td>\n",
       "      <td>Life Sciences</td>\n",
       "      <td>2</td>\n",
       "      <td>Female</td>\n",
       "      <td>1</td>\n",
       "      <td>Research Scientist</td>\n",
       "      <td>Single</td>\n",
       "      <td>544.57</td>\n",
       "      <td>0.0</td>\n",
       "      <td>23</td>\n",
       "      <td>8</td>\n",
       "      <td>1</td>\n",
       "      <td>6.0</td>\n",
       "      <td>3</td>\n",
       "      <td>5</td>\n",
       "      <td>1</td>\n",
       "      <td>4</td>\n",
       "      <td>3.0</td>\n",
       "      <td>2.0</td>\n",
       "      <td>4.0</td>\n",
       "      <td>2</td>\n",
       "      <td>4</td>\n",
       "    </tr>\n",
       "    <tr>\n",
       "      <th>2</th>\n",
       "      <td>32</td>\n",
       "      <td>No</td>\n",
       "      <td>Travel_Frequently</td>\n",
       "      <td>Research &amp; Development</td>\n",
       "      <td>10.625</td>\n",
       "      <td>4</td>\n",
       "      <td>Other</td>\n",
       "      <td>3</td>\n",
       "      <td>Male</td>\n",
       "      <td>4</td>\n",
       "      <td>Sales Executive</td>\n",
       "      <td>Married</td>\n",
       "      <td>2512.64</td>\n",
       "      <td>1.0</td>\n",
       "      <td>15</td>\n",
       "      <td>8</td>\n",
       "      <td>3</td>\n",
       "      <td>5.0</td>\n",
       "      <td>2</td>\n",
       "      <td>5</td>\n",
       "      <td>0</td>\n",
       "      <td>3</td>\n",
       "      <td>2.0</td>\n",
       "      <td>2.0</td>\n",
       "      <td>1.0</td>\n",
       "      <td>3</td>\n",
       "      <td>3</td>\n",
       "    </tr>\n",
       "    <tr>\n",
       "      <th>3</th>\n",
       "      <td>38</td>\n",
       "      <td>No</td>\n",
       "      <td>Non-Travel</td>\n",
       "      <td>Research &amp; Development</td>\n",
       "      <td>1.250</td>\n",
       "      <td>5</td>\n",
       "      <td>Life Sciences</td>\n",
       "      <td>4</td>\n",
       "      <td>Male</td>\n",
       "      <td>3</td>\n",
       "      <td>Human Resources</td>\n",
       "      <td>Married</td>\n",
       "      <td>1081.73</td>\n",
       "      <td>3.0</td>\n",
       "      <td>11</td>\n",
       "      <td>8</td>\n",
       "      <td>3</td>\n",
       "      <td>13.0</td>\n",
       "      <td>5</td>\n",
       "      <td>8</td>\n",
       "      <td>7</td>\n",
       "      <td>5</td>\n",
       "      <td>4.0</td>\n",
       "      <td>4.0</td>\n",
       "      <td>3.0</td>\n",
       "      <td>2</td>\n",
       "      <td>3</td>\n",
       "    </tr>\n",
       "    <tr>\n",
       "      <th>4</th>\n",
       "      <td>32</td>\n",
       "      <td>No</td>\n",
       "      <td>Travel_Rarely</td>\n",
       "      <td>Research &amp; Development</td>\n",
       "      <td>6.250</td>\n",
       "      <td>1</td>\n",
       "      <td>Medical</td>\n",
       "      <td>5</td>\n",
       "      <td>Male</td>\n",
       "      <td>1</td>\n",
       "      <td>Sales Executive</td>\n",
       "      <td>Single</td>\n",
       "      <td>304.46</td>\n",
       "      <td>4.0</td>\n",
       "      <td>12</td>\n",
       "      <td>8</td>\n",
       "      <td>2</td>\n",
       "      <td>9.0</td>\n",
       "      <td>2</td>\n",
       "      <td>6</td>\n",
       "      <td>0</td>\n",
       "      <td>4</td>\n",
       "      <td>4.0</td>\n",
       "      <td>1.0</td>\n",
       "      <td>3.0</td>\n",
       "      <td>3</td>\n",
       "      <td>3</td>\n",
       "    </tr>\n",
       "  </tbody>\n",
       "</table>\n",
       "</div>"
      ],
      "text/plain": [
       "   Age Attrition     BusinessTravel              Department  DistanceFromHome  \\\n",
       "0   51        No      Travel_Rarely                   Sales             3.750   \n",
       "1   31       Yes  Travel_Frequently  Research & Development             6.250   \n",
       "2   32        No  Travel_Frequently  Research & Development            10.625   \n",
       "3   38        No         Non-Travel  Research & Development             1.250   \n",
       "4   32        No      Travel_Rarely  Research & Development             6.250   \n",
       "\n",
       "   Education EducationField  EmployeeID  Gender  JobLevel  \\\n",
       "0          2  Life Sciences           1  Female         1   \n",
       "1          1  Life Sciences           2  Female         1   \n",
       "2          4          Other           3    Male         4   \n",
       "3          5  Life Sciences           4    Male         3   \n",
       "4          1        Medical           5    Male         1   \n",
       "\n",
       "                     JobRole MaritalStatus  MonthlyIncome  NumCompaniesWorked  \\\n",
       "0  Healthcare Representative       Married        1705.08                 1.0   \n",
       "1         Research Scientist        Single         544.57                 0.0   \n",
       "2            Sales Executive       Married        2512.64                 1.0   \n",
       "3            Human Resources       Married        1081.73                 3.0   \n",
       "4            Sales Executive        Single         304.46                 4.0   \n",
       "\n",
       "   PercentSalaryHike  StandardHours  StockOptionLevel  TotalWorkingYears  \\\n",
       "0                 11              8                 0                1.0   \n",
       "1                 23              8                 1                6.0   \n",
       "2                 15              8                 3                5.0   \n",
       "3                 11              8                 3               13.0   \n",
       "4                 12              8                 2                9.0   \n",
       "\n",
       "   TrainingTimesLastYear  YearsAtCompany  YearsSinceLastPromotion  \\\n",
       "0                      6               1                        0   \n",
       "1                      3               5                        1   \n",
       "2                      2               5                        0   \n",
       "3                      5               8                        7   \n",
       "4                      2               6                        0   \n",
       "\n",
       "   YearsWithCurrManager  EnvironmentSatisfaction  JobSatisfaction  \\\n",
       "0                     0                      3.0              4.0   \n",
       "1                     4                      3.0              2.0   \n",
       "2                     3                      2.0              2.0   \n",
       "3                     5                      4.0              4.0   \n",
       "4                     4                      4.0              1.0   \n",
       "\n",
       "   WorkLifeBalance  JobInvolvement  PerformanceRating  \n",
       "0              2.0               3                  3  \n",
       "1              4.0               2                  4  \n",
       "2              1.0               3                  3  \n",
       "3              3.0               2                  3  \n",
       "4              3.0               3                  3  "
      ]
     },
     "execution_count": 3,
     "metadata": {},
     "output_type": "execute_result"
    }
   ],
   "source": [
    "hr_df.head()"
   ]
  },
  {
   "cell_type": "code",
   "execution_count": 4,
   "id": "497cd24f",
   "metadata": {},
   "outputs": [
    {
     "data": {
      "text/plain": [
       "count    4300.000000\n",
       "mean      845.777974\n",
       "std       611.590186\n",
       "min       131.170000\n",
       "25%       380.380000\n",
       "50%       641.680000\n",
       "75%      1089.432500\n",
       "max      2599.870000\n",
       "Name: MonthlyIncome, dtype: float64"
      ]
     },
     "execution_count": 4,
     "metadata": {},
     "output_type": "execute_result"
    }
   ],
   "source": [
    "hr_df.MonthlyIncome.describe()"
   ]
  },
  {
   "cell_type": "code",
   "execution_count": 5,
   "id": "59d2d961",
   "metadata": {},
   "outputs": [
    {
     "data": {
      "text/plain": [
       "count    4300.000000\n",
       "mean        5.748692\n",
       "std         5.060662\n",
       "min         0.625000\n",
       "25%         1.250000\n",
       "50%         4.375000\n",
       "75%         8.750000\n",
       "max        18.125000\n",
       "Name: DistanceFromHome, dtype: float64"
      ]
     },
     "execution_count": 5,
     "metadata": {},
     "output_type": "execute_result"
    }
   ],
   "source": [
    "hr_df.DistanceFromHome.describe()"
   ]
  },
  {
   "cell_type": "code",
   "execution_count": 47,
   "id": "4d6aaf2e",
   "metadata": {},
   "outputs": [],
   "source": [
    "colors = [\"#A2C5AC\",\"#9DB5B2\",\"#878E99\",\"#7F6A93\",\"#3C3E3C\"]"
   ]
  },
  {
   "cell_type": "code",
   "execution_count": 29,
   "id": "9c279a62",
   "metadata": {},
   "outputs": [
    {
     "data": {
      "image/png": "[encoded data removed]",
      "text/plain": [
       "<Figure size 576x1440 with 1 Axes>"
      ]
     },
     "metadata": {
      "needs_background": "light"
     },
     "output_type": "display_data"
    }
   ],
   "source": [
    "fig, ax = plt.subplots(figsize=(8,20))\n",
    "sns.set_palette(sns.color_palette(colors))\n",
    "sns.boxplot(ax=ax, data=hr_df, y=\"MonthlyIncome\")\n",
    "plt.show()"
   ]
  },
  {
   "cell_type": "code",
   "execution_count": 33,
   "id": "f294ff17",
   "metadata": {},
   "outputs": [
    {
     "data": {
      "image/png": "[encoded data removed]",
      "text/plain": [
       "<Figure size 1440x720 with 1 Axes>"
      ]
     },
     "metadata": {
      "needs_background": "light"
     },
     "output_type": "display_data"
    }
   ],
   "source": [
    "fig, ax = plt.subplots(figsize=(20,10))\n",
    "sns.set_palette(sns.color_palette(colors))\n",
    "sns.histplot(ax=ax, data=hr_df, x=\"MonthlyIncome\", kde=True)\n",
    "plt.show()"
   ]
  },
  {
   "cell_type": "code",
   "execution_count": 48,
   "id": "1af75bad",
   "metadata": {},
   "outputs": [
    {
     "data": {
      "image/png": "[encoded data removed]",
      "text/plain": [
       "<Figure size 720x432 with 1 Axes>"
      ]
     },
     "metadata": {
      "needs_background": "light"
     },
     "output_type": "display_data"
    }
   ],
   "source": [
    "sns.set_palette(sns.color_palette(colors))\n",
    "fig, ax = plt.subplots(figsize=(10,6))\n",
    "sns.histplot(ax=ax,data=hr_df, x=\"Gender\", hue=\"MaritalStatus\", multiple=\"stack\")\n",
    "plt.show()"
   ]
  },
  {
   "cell_type": "code",
   "execution_count": null,
   "id": "af171bcf",
   "metadata": {},
   "outputs": [],
   "source": [
    "colors = [\"#A2C5AC\",\"#7F6A93\"]\n",
    "\n",
    "sns.set_palette(sns.color_palette(colors))"
   ]
  },
  {
   "cell_type": "code",
   "execution_count": null,
   "id": "61711d49",
   "metadata": {},
   "outputs": [],
   "source": [
    "sns.histplot(hr_df, x=\"Gender\", hue=\"Gender\", y=\"MonthlyIncome\")"
   ]
  },
  {
   "cell_type": "code",
   "execution_count": null,
   "id": "8b2ffb8e",
   "metadata": {},
   "outputs": [],
   "source": [
    "Ed = sns.displot(hr_df, x=\"EducationField\", hue=\"EducationField\")\n",
    "Ed.set_xticklabels(rotation=45, horizontalalignment='right')"
   ]
  },
  {
   "cell_type": "code",
   "execution_count": null,
   "id": "3dadfa4f",
   "metadata": {},
   "outputs": [],
   "source": [
    "sns.displot(hr_df, x=\"BusinessTravel\", hue=\"BusinessTravel\")"
   ]
  },
  {
   "cell_type": "code",
   "execution_count": null,
   "id": "72a69d62",
   "metadata": {},
   "outputs": [],
   "source": [
    "sns.displot(hr_df, x=\"DistanceFromHome\", kind=\"ecdf\")"
   ]
  },
  {
   "cell_type": "code",
   "execution_count": null,
   "id": "634a7555",
   "metadata": {},
   "outputs": [],
   "source": [
    "job_dept = sns.displot(hr_df, x=\"JobRole\", hue=\"Department\")\n",
    "job_dept.set_xticklabels(rotation=45, horizontalalignment='right')"
   ]
  },
  {
   "cell_type": "code",
   "execution_count": null,
   "id": "40fb413a",
   "metadata": {},
   "outputs": [],
   "source": [
    "dept_attr = sns.displot(hr_df, x='Department', hue='Attrition')\n",
    "dept_attr.set_xticklabels(rotation=45, horizontalalignment='right')"
   ]
  },
  {
   "cell_type": "code",
   "execution_count": null,
   "id": "14bf365a",
   "metadata": {},
   "outputs": [],
   "source": [
    "sns.displot(hr_df, x=\"JobSatisfaction\")"
   ]
  },
  {
   "cell_type": "code",
   "execution_count": null,
   "id": "87d70eab",
   "metadata": {},
   "outputs": [],
   "source": [
    "job_dep = sns.displot(hr_df, x=\"Department\", hue=\"JobRole\", multiple=\"dodge\")\n",
    "job_dep.set_xticklabels(rotation=45, horizontalalignment='right')"
   ]
  },
  {
   "cell_type": "code",
   "execution_count": null,
   "id": "33d2668f",
   "metadata": {},
   "outputs": [],
   "source": [
    "sns.displot(hr_df, x='StockOptionLevel')\n"
   ]
  },
  {
   "cell_type": "code",
   "execution_count": null,
   "id": "69175f94",
   "metadata": {},
   "outputs": [],
   "source": [
    "sns.catplot(x=\"MonthlyIncome\",y='Department', hue=\"Attrition\",\n",
    "            kind=\"violin\", split=True, data=hr_df)"
   ]
  },
  {
   "cell_type": "code",
   "execution_count": null,
   "id": "7f34dc57",
   "metadata": {},
   "outputs": [],
   "source": [
    "sns.catplot(x=\"MonthlyIncome\",y='JobRole', hue=\"Attrition\",\n",
    "            kind=\"violin\", split=True, data=hr_df)"
   ]
  },
  {
   "cell_type": "code",
   "execution_count": null,
   "id": "8a828b77",
   "metadata": {},
   "outputs": [],
   "source": [
    "sns.catplot(x=\"PercentSalaryHike\",y='JobRole', hue=\"Attrition\",\n",
    "            kind=\"violin\", split=True, data=hr_df)"
   ]
  },
  {
   "cell_type": "code",
   "execution_count": null,
   "id": "a42bb20f",
   "metadata": {},
   "outputs": [],
   "source": []
  }
 ],
 "metadata": {
  "kernelspec": {
   "display_name": "Python 3 (ipykernel)",
   "language": "python",
   "name": "python3"
  },
  "language_info": {
   "codemirror_mode": {
    "name": "ipython",
    "version": 3
   },
   "file_extension": ".py",
   "mimetype": "text/x-python",
   "name": "python",
   "nbconvert_exporter": "python",
   "pygments_lexer": "ipython3",
   "version": "3.9.7"
  }
 },
 "nbformat": 4,
 "nbformat_minor": 5
}
