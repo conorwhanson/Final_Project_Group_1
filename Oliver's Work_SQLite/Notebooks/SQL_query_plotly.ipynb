{
 "cells": [
  {
   "cell_type": "code",
   "execution_count": 1,
   "id": "38b34516",
   "metadata": {},
   "outputs": [],
   "source": [
    "import pandas as pd\n",
    "import numpy as np\n",
    "import pickle\n",
    "from sqlalchemy import create_engine, inspect\n",
    "\n",
    "# allow max columns to be displayed\n",
    "pd.set_option('display.max_columns', None)\n",
    "pd.set_option('display.max_colwidth', None)"
   ]
  },
  {
   "cell_type": "code",
   "execution_count": 2,
   "id": "ab36ce21",
   "metadata": {},
   "outputs": [],
   "source": [
    "database = \"../../resources/HR_Data/HR_Attrition.db\"\n",
    "conn_string = f\"sqlite:///{database}\""
   ]
  },
  {
   "cell_type": "code",
   "execution_count": 3,
   "id": "6947e180",
   "metadata": {},
   "outputs": [],
   "source": [
    "engine = create_engine(conn_string)"
   ]
  },
  {
   "cell_type": "code",
   "execution_count": 15,
   "id": "f0047d1b",
   "metadata": {},
   "outputs": [],
   "source": [
    "min_age = 18\n",
    "max_age = 21"
   ]
  },
  {
   "cell_type": "code",
   "execution_count": 16,
   "id": "c3e65f01",
   "metadata": {},
   "outputs": [
    {
     "data": {
      "text/html": [
       "<div>\n",
       "<style scoped>\n",
       "    .dataframe tbody tr th:only-of-type {\n",
       "        vertical-align: middle;\n",
       "    }\n",
       "\n",
       "    .dataframe tbody tr th {\n",
       "        vertical-align: top;\n",
       "    }\n",
       "\n",
       "    .dataframe thead th {\n",
       "        text-align: right;\n",
       "    }\n",
       "</style>\n",
       "<table border=\"1\" class=\"dataframe\">\n",
       "  <thead>\n",
       "    <tr style=\"text-align: right;\">\n",
       "      <th></th>\n",
       "      <th>Age</th>\n",
       "      <th>Attrition</th>\n",
       "    </tr>\n",
       "  </thead>\n",
       "  <tbody>\n",
       "    <tr>\n",
       "      <th>0</th>\n",
       "      <td>21</td>\n",
       "      <td>No</td>\n",
       "    </tr>\n",
       "    <tr>\n",
       "      <th>1</th>\n",
       "      <td>18</td>\n",
       "      <td>Yes</td>\n",
       "    </tr>\n",
       "    <tr>\n",
       "      <th>2</th>\n",
       "      <td>18</td>\n",
       "      <td>No</td>\n",
       "    </tr>\n",
       "    <tr>\n",
       "      <th>3</th>\n",
       "      <td>21</td>\n",
       "      <td>Yes</td>\n",
       "    </tr>\n",
       "    <tr>\n",
       "      <th>4</th>\n",
       "      <td>21</td>\n",
       "      <td>No</td>\n",
       "    </tr>\n",
       "  </tbody>\n",
       "</table>\n",
       "</div>"
      ],
      "text/plain": [
       "   Age Attrition\n",
       "0   21        No\n",
       "1   18       Yes\n",
       "2   18        No\n",
       "3   21       Yes\n",
       "4   21        No"
      ]
     },
     "execution_count": 16,
     "metadata": {},
     "output_type": "execute_result"
    }
   ],
   "source": [
    "query = f\"\"\"\n",
    "        SELECT\n",
    "            ep.Age, \n",
    "            ew.Attrition\n",
    "        FROM\n",
    "            EmpPersonalInfo ep\n",
    "        LEFT JOIN EmpWorkInfo ew ON\n",
    "        ep.EmployeeID = ew.EmployeeID\n",
    "        WHERE Age >= {min_age}\n",
    "            AND Age <= {max_age}\n",
    "        \"\"\"\n",
    "df = pd.read_sql(query, conn_string)\n",
    "df.head()"
   ]
  },
  {
   "cell_type": "code",
   "execution_count": 17,
   "id": "c4bd0c21",
   "metadata": {},
   "outputs": [
    {
     "data": {
      "text/plain": [
       "21    38\n",
       "20    33\n",
       "19    27\n",
       "18    22\n",
       "Name: Age, dtype: int64"
      ]
     },
     "execution_count": 17,
     "metadata": {},
     "output_type": "execute_result"
    }
   ],
   "source": [
    "df.Age.value_counts()"
   ]
  },
  {
   "cell_type": "code",
   "execution_count": 18,
   "id": "b8a8c40a",
   "metadata": {},
   "outputs": [
    {
     "data": {
      "text/plain": [
       "Yes    64\n",
       "No     56\n",
       "Name: Attrition, dtype: int64"
      ]
     },
     "execution_count": 18,
     "metadata": {},
     "output_type": "execute_result"
    }
   ],
   "source": [
    "df.Attrition.value_counts()"
   ]
  },
  {
   "cell_type": "markdown",
   "id": "4509df7a",
   "metadata": {},
   "source": [
    "# Problem is Plotly Summing Age as below\n"
   ]
  },
  {
   "cell_type": "code",
   "execution_count": 23,
   "id": "3ff4759a",
   "metadata": {},
   "outputs": [
    {
     "data": {
      "text/plain": [
       "Attrition\n",
       "No     1110\n",
       "Yes    1257\n",
       "Name: Age, dtype: int64"
      ]
     },
     "execution_count": 23,
     "metadata": {},
     "output_type": "execute_result"
    }
   ],
   "source": [
    "df.groupby('Attrition')['Age'].sum()"
   ]
  },
  {
   "cell_type": "code",
   "execution_count": null,
   "id": "31d05a09",
   "metadata": {},
   "outputs": [],
   "source": []
  }
 ],
 "metadata": {
  "kernelspec": {
   "display_name": "Python 3 (ipykernel)",
   "language": "python",
   "name": "python3"
  },
  "language_info": {
   "codemirror_mode": {
    "name": "ipython",
    "version": 3
   },
   "file_extension": ".py",
   "mimetype": "text/x-python",
   "name": "python",
   "nbconvert_exporter": "python",
   "pygments_lexer": "ipython3",
   "version": "3.7.11"
  },
  "varInspector": {
   "cols": {
    "lenName": 16,
    "lenType": 16,
    "lenVar": 40
   },
   "kernels_config": {
    "python": {
     "delete_cmd_postfix": "",
     "delete_cmd_prefix": "del ",
     "library": "var_list.py",
     "varRefreshCmd": "print(var_dic_list())"
    },
    "r": {
     "delete_cmd_postfix": ") ",
     "delete_cmd_prefix": "rm(",
     "library": "var_list.r",
     "varRefreshCmd": "cat(var_dic_list()) "
    }
   },
   "types_to_exclude": [
    "module",
    "function",
    "builtin_function_or_method",
    "instance",
    "_Feature"
   ],
   "window_display": false
  }
 },
 "nbformat": 4,
 "nbformat_minor": 5
}
