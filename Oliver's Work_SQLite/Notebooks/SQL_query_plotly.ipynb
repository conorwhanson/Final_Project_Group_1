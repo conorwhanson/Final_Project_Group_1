{
 "cells": [
  {
   "cell_type": "code",
   "execution_count": 1,
   "id": "38b34516",
   "metadata": {},
   "outputs": [],
   "source": [
    "import pandas as pd\n",
    "import numpy as np\n",
    "import pickle\n",
    "from sqlalchemy import create_engine, inspect\n",
    "\n",
    "# allow max columns to be displayed\n",
    "pd.set_option('display.max_columns', None)\n",
    "pd.set_option('display.max_colwidth', None)"
   ]
  },
  {
   "cell_type": "code",
   "execution_count": 2,
   "id": "ab36ce21",
   "metadata": {},
   "outputs": [],
   "source": [
    "database = \"../../resources/HR_Data/HR_Attrition.db\"\n",
    "conn_string = f\"sqlite:///{database}\""
   ]
  },
  {
   "cell_type": "code",
   "execution_count": 3,
   "id": "6947e180",
   "metadata": {},
   "outputs": [],
   "source": [
    "engine = create_engine(conn_string)"
   ]
  },
  {
   "cell_type": "code",
   "execution_count": 4,
   "id": "f0047d1b",
   "metadata": {},
   "outputs": [],
   "source": [
    "min_age = 20\n",
    "max_age = 30"
   ]
  },
  {
   "cell_type": "code",
   "execution_count": 5,
   "id": "c3e65f01",
   "metadata": {},
   "outputs": [
    {
     "name": "stdout",
     "output_type": "stream",
     "text": [
      "<class 'pandas.core.frame.DataFrame'>\n",
      "RangeIndex: 261 entries, 0 to 260\n",
      "Data columns (total 2 columns):\n",
      " #   Column     Non-Null Count  Dtype \n",
      "---  ------     --------------  ----- \n",
      " 0   Age        261 non-null    int64 \n",
      " 1   Attrition  261 non-null    object\n",
      "dtypes: int64(1), object(1)\n",
      "memory usage: 4.2+ KB\n"
     ]
    }
   ],
   "source": [
    "query = f\"\"\"\n",
    "        SELECT\n",
    "            Age, \n",
    "            Attrition\n",
    "        FROM\n",
    "            EmpPersonalInfo\n",
    "        LEFT JOIN EmpWorkInfo ON\n",
    "        EmpPersonalInfo.EmployeeID = EmpWorkInfo.EmployeeID\n",
    "        WHERE Age >= {min_age}\n",
    "            AND Age <= {max_age}\n",
    "            AND Attrition = 'Yes';\n",
    "        \"\"\"\n",
    "df = pd.read_sql(query, conn_string)\n",
    "df.info()"
   ]
  },
  {
   "cell_type": "code",
   "execution_count": null,
   "id": "c4bd0c21",
   "metadata": {},
   "outputs": [],
   "source": []
  }
 ],
 "metadata": {
  "kernelspec": {
   "display_name": "Python 3 (ipykernel)",
   "language": "python",
   "name": "python3"
  },
  "language_info": {
   "codemirror_mode": {
    "name": "ipython",
    "version": 3
   },
   "file_extension": ".py",
   "mimetype": "text/x-python",
   "name": "python",
   "nbconvert_exporter": "python",
   "pygments_lexer": "ipython3",
   "version": "3.7.11"
  },
  "varInspector": {
   "cols": {
    "lenName": 16,
    "lenType": 16,
    "lenVar": 40
   },
   "kernels_config": {
    "python": {
     "delete_cmd_postfix": "",
     "delete_cmd_prefix": "del ",
     "library": "var_list.py",
     "varRefreshCmd": "print(var_dic_list())"
    },
    "r": {
     "delete_cmd_postfix": ") ",
     "delete_cmd_prefix": "rm(",
     "library": "var_list.r",
     "varRefreshCmd": "cat(var_dic_list()) "
    }
   },
   "types_to_exclude": [
    "module",
    "function",
    "builtin_function_or_method",
    "instance",
    "_Feature"
   ],
   "window_display": false
  }
 },
 "nbformat": 4,
 "nbformat_minor": 5
}
