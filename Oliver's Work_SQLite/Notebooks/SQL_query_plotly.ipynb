{
 "cells": [
  {
   "cell_type": "code",
   "execution_count": 1,
   "id": "38b34516",
   "metadata": {},
   "outputs": [],
   "source": [
    "import pandas as pd\n",
    "import numpy as np\n",
    "import pickle\n",
    "from sqlalchemy import create_engine, inspect"
   ]
  },
  {
   "cell_type": "code",
   "execution_count": 2,
   "id": "ab36ce21",
   "metadata": {},
   "outputs": [],
   "source": [
    "database = \"../../resources/HR_Data/HR_Attrition.db\"\n",
    "conn_string = f\"sqlite:///{database}\""
   ]
  },
  {
   "cell_type": "code",
   "execution_count": 4,
   "id": "6947e180",
   "metadata": {},
   "outputs": [],
   "source": [
    "engine = create_engine(conn_string)"
   ]
  },
  {
   "cell_type": "code",
   "execution_count": 13,
   "id": "f0047d1b",
   "metadata": {},
   "outputs": [],
   "source": [
    "min_age = 20\n",
    "max_age = 30"
   ]
  },
  {
   "cell_type": "code",
   "execution_count": 14,
   "id": "c3e65f01",
   "metadata": {},
   "outputs": [
    {
     "name": "stdout",
     "output_type": "stream",
     "text": [
      "<class 'pandas.core.frame.DataFrame'>\n",
      "RangeIndex: 261 entries, 0 to 260\n",
      "Data columns (total 2 columns):\n",
      " #   Column     Non-Null Count  Dtype \n",
      "---  ------     --------------  ----- \n",
      " 0   Age        261 non-null    int64 \n",
      " 1   Attrition  261 non-null    object\n",
      "dtypes: int64(1), object(1)\n",
      "memory usage: 4.2+ KB\n"
     ]
    }
   ],
   "source": [
    "query = f\"\"\"\n",
    "        SELECT\n",
    "            Age, \n",
    "            Attrition\n",
    "        FROM\n",
    "            EmpPersonalInfo\n",
    "        LEFT JOIN EmpWorkInfo ON\n",
    "        EmpPersonalInfo.EmployeeID = EmpWorkInfo.EmployeeID\n",
    "        WHERE Age >= {min_age}\n",
    "            AND Age <= {max_age}\n",
    "            AND Attrition = 'Yes';\n",
    "        \"\"\"\n",
    "df = pd.read_sql(query, conn_string)\n",
    "df.info()"
   ]
  },
  {
   "cell_type": "code",
   "execution_count": null,
   "id": "c4bd0c21",
   "metadata": {},
   "outputs": [],
   "source": []
  }
 ],
 "metadata": {
  "kernelspec": {
   "display_name": "Python 3 (ipykernel)",
   "language": "python",
   "name": "python3"
  },
  "language_info": {
   "codemirror_mode": {
    "name": "ipython",
    "version": 3
   },
   "file_extension": ".py",
   "mimetype": "text/x-python",
   "name": "python",
   "nbconvert_exporter": "python",
   "pygments_lexer": "ipython3",
   "version": "3.9.7"
  }
 },
 "nbformat": 4,
 "nbformat_minor": 5
}
